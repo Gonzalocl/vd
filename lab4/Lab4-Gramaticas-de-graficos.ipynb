{
 "cells": [
  {
   "cell_type": "markdown",
   "metadata": {},
   "source": [
    "# Introducción\n",
    "\n",
    "El libro de Leland Wilkinson *The Grammar of Graphics* (1999) es un clásico entre los libros de visualización de datos. En él, Wilkinson propone un framework que unifica el diseño, implementación e interpretación de un gráfico. La *Gramática de los gráficos* se ha hecho especialmente famosa tras su implementación en el paquete de R [ggplot2](http://ggplot2.org/). También existe una versión de este paquete para [Python](http://ggplot.yhathq.com/) que, lamentablemente, es bastante limitada en comparación con la de R. Dado que las sintaxis de *ggplot* son muy similares en ambos lenguajes, en este notebook emplearemos R (de una forma muy transparente, por lo que no hace falta experiencia con este lenguaje). En el apéndice puedes encontrar instrucciones acerca de como usar Jupyter con R.\n",
    "\n",
    "En esta sesión exploraremos algunos de los conceptos principales que subyacen a esta *Gramática de los gráficos*. Pero, ¿Qué es una *gramática de gráficos*?\n",
    "\n",
    "Una *Gramática de los gráficos* es una herramienta que permite describir de forma concisa los componenentes de una gráfica. Dicha gramática nos proporciona la posibilidad de superar los gráficos prefabricados (como los que encontramos en Excel) y profundizar en la estructura que subyace a todos los gráficos estadísticos. En la \"aproximación Excel\" elegimos una tipo de gráfico entre una lista de posibilidades predefinas para representar nuestros datos: ¿Desea usted un *gráfico de barras*, un *gráfico circular* o un *gráfico de líneas*? Lo cierto es que esta forma de construir gráficas no incita a la reflexión. Por otra parte, para comprender la *gramática de los gráficos* tenemos que reflexionar como se construyen las gráficas.\n",
    "\n",
    "\n",
    "# Introducción a **ggplot** ¿Cómo construir un gráfico?\n",
    "\n",
    "Hay dos principios fundamentales a tener en cuenta a la hora de intentar construir un gráfico siguiendo la metodología de la *gramática de los gráficos*:\n",
    "\n",
    "* Gráficos = distintas capas formadas por elementos gramaticales (elemento gramatical = pieza mínima para la construcción de gráficas).\n",
    "* Los gráficos más utiles se optienen mediante un buen *mapeado estético*\n",
    "\n",
    "Hay 7 elementos gramaticales en **ggplot**, de los cuáles sólo los tres primeros son imprescindibles:\n",
    "* Los datos: en el caso de **ggplot**, en formato *data.frame* (o *pandas.DataFrame* en python) .\n",
    "* Elementos estéticos: los atributos visuales en los que mapearemos los datos.\n",
    "* Geometrías: Los elementos visuales que emplearemos para representar los datos.\n",
    "* Facets: Forma de representación que nos permitirá representar subconjuntos de datos.\n",
    "* Estadísticos: Representaciones estadísticas de los datos.\n",
    "* Coordenadas: El sistema de coordenadas empleado para la representación de los datos (cartesiano  o polar).\n",
    "* Anotaciones y temas: Todas las representaciones sin relación directa con los datos (el fondo del gráfico o su título, por ejemplo).\n",
    "\n",
    "Estos elementos gramaticales se combinan en forma de capas para construir un gráfico. De esta forma, el proceso de construcción de un gráfico básico en **ggplot** se puede resumir como sigue:\n",
    "\n",
    "* **Mapeamos** cada una de las variables que deseamos representar a algún atributo estético (*aesthetic*, más sobre esto más adelante). Por ejemplo, para hacer un *scatterplot* de A frente a B mapeamos A al atributo \"posición en el eje x\" y B al atributo \"posición en el eje y\".  Este proceso puede representarse mediante la creación de otro *data.frame*:\n",
    "<img src=\"ggmapping.png\" style=\"width: 800px;\"/>\n",
    "\n",
    "\n",
    "* Mediante el mapeado que hemos hecho podemos generar gráficos distintos dependiento del tipo de **geometría** que empleamos para representar los atributos estéticos. Por ejemplo, si dibujamos puntos obtendremos un *scatterplot*, si usamos líneas una *gráfica de líneas* y si usamos barras, un *gráfico de barras*.\n",
    "* Para crear el gráfico final tenemos que combinar objetos gráficos procedentes de tres fuentes: nuestros datos (cons sus atributos estéticos y geometrías asociadas); las escalas(¿usamos escala logarítmica o no?) y el **sistema de coordenadas** (¿usamos una representación cartesiana o polar?; y las **anotaciones y temas** (como el fondo del gráfico o el título del gráfico). Estos elementos y su combinación para formar el gráfico final pueden verse en la figura siguiente.\n",
    "\n",
    "<img src=\"grammatic_elements.png\" style=\"width: 800px;\"/>\n",
    "\n",
    "\n",
    "Esta explicación es posiblemente difícil de digerir... veamos un ejemplo con **ggplot** para intentar aclarar ideas. \n",
    "Para ilustrar la esencia de construir un gráfico vamos a emplear el dataset [diamonds](http://www.rdocumentation.org/packages/ggplot2/functions/diamonds) incluído en el paquete **ggplot**. Antes de nada cargamos la librería y hacemos los gráficos un poco más pequeños.\n",
    "\n"
   ]
  },
  {
   "cell_type": "code",
   "execution_count": null,
   "metadata": {
    "scrolled": false
   },
   "outputs": [],
   "source": [
    "library('ggplot2')\n",
    "options(repr.plot.width=6, repr.plot.height=4)"
   ]
  },
  {
   "cell_type": "markdown",
   "metadata": {},
   "source": [
    "Intentemos crear un  *scatterplot* del precio del diamante (*price*) Vs. los quilates (*carat*). Para ello, el primer paso sería crear el mapeado de nuestros **datos** (contenidos en el data.frame *diamonds*) a los atributos estéticos deseados (*prices* al atributo \"posición en el eje y\" y *carat* al atributo \"posición en el eje x\"). En **ggplot** esto se indicaría de la siguiente forma: "
   ]
  },
  {
   "cell_type": "code",
   "execution_count": null,
   "metadata": {},
   "outputs": [],
   "source": [
    "# aes es una función que especifica los \"aesthetics\" del gráfico\n",
    "p = ggplot(diamonds, aes(x = carat, y = price))"
   ]
  },
  {
   "cell_type": "markdown",
   "metadata": {},
   "source": [
    "No te preocupes si no aparece ningún gráfico. Hasta el momento, solo hemos construído la primera capa de nuestra gráfica, pero todavía no hemos renderizado nada. Fíjate que es posible almacenar los pasos intermedios en una variable. La siguiente capa que consideraremos será la de **geometrías**. Esta es la última capa necesaria para crear un gráfico (vease la explicación anterior) ya que **ggplot** completará nuestra especificación mediante capas por defecto para completar el *plot*. La geometría adecuada para realizar un *scatterplot* es *geom_point*:"
   ]
  },
  {
   "cell_type": "code",
   "execution_count": null,
   "metadata": {},
   "outputs": [],
   "source": [
    "p = p + geom_point()\n",
    "# para visualizar el gráfico. Debemos imprimirlo mediante print o simplemente teclear su nombre en la terminal\n",
    "p\n",
    "# También podríamos haber escrito\n",
    "# ggplot(diamonds, aes(x = 'carat', y = 'price')) + geom_point()"
   ]
  },
  {
   "cell_type": "markdown",
   "metadata": {},
   "source": [
    "### Ejercicio 1: Mapeando datos. \n",
    "Uno de los principios de la *gramática de los gráficos* es \"Los gráficos más utiles se optienen mediante un buen *mapeado estético*\". Efectivamente, podemos añadir más información al gráfico realizando nuevos mapeados. Por ejemplo, podemos emplear los atributos estéticos *color* y *size*. **Modifica la gráfica anterior mapeando la variable *cut* a *color* y la variable *depth* a *size* **."
   ]
  },
  {
   "cell_type": "code",
   "execution_count": null,
   "metadata": {},
   "outputs": [],
   "source": [
    "# Escribe la solución. Usa el data.frame diamonds\n",
    "ggplot(diamonds, aes(x = carat, y = price, color = cut, size = depth)) + geom_point()"
   ]
  },
  {
   "cell_type": "markdown",
   "metadata": {},
   "source": [
    "Una vez completes el ejercicio, fíjate que **ggplot** ha incorporado una leyenda para las variables de color y tamaño de forma automática. Por otra parte, esta gráfica es un claro ejemplo de gráfica en el que hemos incorporado demasiada información. El tamaño de los puntos no permite apreciar de forma efectiva cómo influye *Depth* en  el precio de los diamantes, en gran parte debido a que muchos puntos se solapan. Vamos a intentar mejorar el dibujo en este sentido.\n",
    "\n",
    "### Ejercicio 2: Atributos.\n",
    "Para mejorar el gráfico anterior vamos a modificar la forma de los puntos y su transparencia. En los ejemplos anteriores cada elemento estético varía en función de la variable en la cuál había sido mapeado. Lo que pretendemos en este ejercicio es completamente distinto, ya que estableceremos el valor de una variable estética sin mapeo. Para diferenciar estas dos situaciones se habla de propiedades-estéticas (*aesthetics*) y atributos (*attributes*). Para modificar el atributo \"forma\" podemos usar: "
   ]
  },
  {
   "cell_type": "code",
   "execution_count": null,
   "metadata": {},
   "outputs": [],
   "source": [
    "# Ejemplo:\n",
    "ggplot(diamonds, aes(x = carat, y = price, color=cut)) + geom_point(shape = 17)"
   ]
  },
  {
   "cell_type": "markdown",
   "metadata": {},
   "source": [
    "Fíjate en que en este caso, *shape* no está incluído dentro de la función *aes*. Como consecuencia, *shape* no ha sido incluída en la leyenda. \n",
    "**Modifica el plot anterior estableciendo el valor del atributo tamaño (*size*) a 1 y el valor de la transparencia (*alpha*) a 0.2. Es una buena práctica el uso de transparencia cuando hay solapamiento (overplotting)**"
   ]
  },
  {
   "cell_type": "code",
   "execution_count": null,
   "metadata": {},
   "outputs": [],
   "source": [
    "# Escribe la solución. Usa el data.frame diamonds\n",
    "ggplot(diamonds, aes(x = carat, y = price, color = cut)) + geom_point(shape = 17, size = 1, alpha = 0.2)"
   ]
  },
  {
   "cell_type": "markdown",
   "metadata": {},
   "source": [
    "### Ejercicio 3: más geometrías\n",
    "Para terminar con esta primera parte de la práctica vamos repasar los mapeos y a explorar nuevas geometrías mediante el *data.frame meat*, que contiene datos acerca del consumo de diversos tipos de carne en Estados Unidos. Para leerlo empleamos la función *read.csv*, especificando el formato de cada una de las columnas:"
   ]
  },
  {
   "cell_type": "code",
   "execution_count": null,
   "metadata": {},
   "outputs": [],
   "source": [
    "meat=read.csv('meat.csv', colClasses = c('Date', rep( 'numeric', 7)))\n",
    "print(head(meat))"
   ]
  },
  {
   "cell_type": "markdown",
   "metadata": {},
   "source": [
    "**Crea un gráfico temporal para el consumo de carne vacuna (*beef*) usando la geometría geom_line. Guarda el resultado en una variable auxiliar. **"
   ]
  },
  {
   "cell_type": "code",
   "execution_count": null,
   "metadata": {},
   "outputs": [],
   "source": [
    "# Escribe aquí la solución. Usa el data.frame mean y la geometría geom_line\n",
    "g = ggplot(meat, aes(x = date, y = beef)) + geom_line()"
   ]
  },
  {
   "cell_type": "markdown",
   "metadata": {},
   "source": [
    "Es posible insertar varias capas con distintas geometrías o incluso estadísticos. **Por ejemplo, usando la variable auxiliar creada en el anterior snippet, añade a la serie temporal un *scatterplot* de los datos (con *geom_point()*) y una regresión (con *geom_smooth*) **:"
   ]
  },
  {
   "cell_type": "code",
   "execution_count": null,
   "metadata": {},
   "outputs": [],
   "source": [
    "# Escribe aquí la solución\n",
    "g + geom_point() + geom_smooth()"
   ]
  },
  {
   "cell_type": "markdown",
   "metadata": {},
   "source": [
    "**Cambia los atributos color de la regresión ('red') y el grosor de la línea (parámetro *size*, con valor 0.5)**. Recuerda que no debes usar la función *aes* ya que no estamos trabajando con *aesthetics*."
   ]
  },
  {
   "cell_type": "code",
   "execution_count": null,
   "metadata": {},
   "outputs": [],
   "source": [
    "# Escribe aquí la solución\n",
    "g + geom_point() + geom_smooth(color = 'red', size = 0.5)"
   ]
  },
  {
   "cell_type": "markdown",
   "metadata": {},
   "source": [
    "### Ejercicio 4: Por defecto, *geom_smooth* usa [regresión local (o loess)](https://en.wikipedia.org/wiki/Local_regression) para obtener la regresión. La cantidad de puntos locales empleados en la regresión se puede controlar con el parámetro *span*. **Modifica el parámetro *span* para observar cómo afecta a la regresión. Elimina el intervalo de confianza poniendo el parámetro *se* a *FALSE* **."
   ]
  },
  {
   "cell_type": "code",
   "execution_count": null,
   "metadata": {
    "scrolled": false
   },
   "outputs": [],
   "source": [
    "# Escribe aquí la solución\n",
    "g + geom_point() + geom_smooth(color = 'red', size = 0.5, span = 10, se = FALSE)"
   ]
  },
  {
   "cell_type": "markdown",
   "metadata": {
    "collapsed": true
   },
   "source": [
    "# La capa de los datos\n",
    "\n",
    "Imaginemos que deseamos dibujar el consumo de los distintos tipos de carne presentes en el *data.frame* *meat* a lo largo del tiempo. La forma *naive* que a muchos de nosotros se nos ocurriría realizar este tipo de plot explota el hecho de que podemos sobreescribir los mapeos realizados anteriormente en las distintas capas que componen el gráfico:"
   ]
  },
  {
   "cell_type": "code",
   "execution_count": null,
   "metadata": {},
   "outputs": [],
   "source": [
    "ggplot(meat, aes(x=date, y = beef)) + geom_line(color = 'blue') + \n",
    "      geom_line(aes(x=date, y = pork), color = 'red') \n",
    "### etc. ¡Aun quedan muchos tipos de carne! :'("
   ]
  },
  {
   "cell_type": "markdown",
   "metadata": {},
   "source": [
    "Además de ser muy poco práctico (aún tendríamos que añadir las capas correspondientes a los restantes tipos de carne) esta es una forma incorrecta de realizar el gráfico (al menos desde la filosofía de la *gramática de los gráficos*). Las variables que hemos dibujado en el eje *y* han sido:\n",
    "\n",
    "1. Consumo de carne vacuna.\n",
    "2. Consumo de carne de cerdo.\n",
    "\n",
    "Así pues lo que realmente queremos dibujar en el eje *y* es *consumo de carne*. ¡Esto implica que nuestra capa de datos no está en formato apropiado para lo que deseamos representar y estudiar! Este es un problema que suele presentarse a menudo estrechamente relacionado con dos formas de presentar los datos en formato tabular: [long vs wide](https://en.wikipedia.org/wiki/Wide_and_narrow_data). En el caso que nos ocupa, un *data.frame* adecuado a nuestros intereses tendría el formato:\n",
    "\n",
    "\n",
    "| date       | meat_type | consumption |\n",
    "|------------|-----------|-------------|\n",
    "| 1944-01-01 | beef      | 751         |\n",
    "| 1944-02-01 | beef      | 13          |\n",
    "| ...        | ...       | ...         |\n",
    "| 1944-01-01 | veal      | 85          | \n",
    "\n",
    "\n",
    "\n",
    "Para pasar entre formatos *wide* y *long* podemos emplear la librería de R *reshape2*. En este [link](http://seananderson.ca/2013/10/19/reshape.html) puedes encontrar más información sobre *reshape2* y los formatos *long* y *wide*. Para pasar a formato long, simplemente debemos usar:\n"
   ]
  },
  {
   "cell_type": "code",
   "execution_count": null,
   "metadata": {},
   "outputs": [],
   "source": [
    "library('reshape2')\n",
    "meat_long = melt(meat, id.vars = 'date')\n",
    "colnames(meat_long) = c('date', 'meat_type', 'consumption')\n",
    "head(meat_long)"
   ]
  },
  {
   "cell_type": "markdown",
   "metadata": {},
   "source": [
    "### Ejercicio 5: Usando la nueva tabla, crea un gráfico mostrando el consumo de los distintos tipos de carnes a lo largo del tiempo. Mapea cada tipo de carne con un color distinto. \n"
   ]
  },
  {
   "cell_type": "code",
   "execution_count": null,
   "metadata": {},
   "outputs": [],
   "source": [
    "# Escribe aquí la solución\n",
    "ggplot(meat_long, aes(x = date, y = consumption, color = meat_type)) + geom_line()"
   ]
  },
  {
   "cell_type": "markdown",
   "metadata": {},
   "source": [
    "Una vez completes el ejercicio observa que, a diferencia de nuestro gráfico anterior, esta vez aparece una leyenda (¡una buena señal de que lo estamos haciendo bien!). Una vez creado el gráfico, **guardalo en una variable auxiliar y luego modifícala añadiendo un *geom_smooth*. Observa que ggplot crea una regresión para cada tipo de carne. Mejora el gráfico eliminando los intervalos de confianza.**"
   ]
  },
  {
   "cell_type": "code",
   "execution_count": null,
   "metadata": {},
   "outputs": [],
   "source": [
    "# Escribe aquí la solución\n",
    "g = ggplot(meat_long, aes(x = date, y = consumption, color = meat_type)) + geom_line()\n",
    "g + geom_smooth(se = FALSE)"
   ]
  },
  {
   "cell_type": "markdown",
   "metadata": {
    "collapsed": true
   },
   "source": [
    "# Geometrías\n",
    "\n",
    "Ya hemos trabajado un poco con distintas geometrías como *geom_point* o *geom_line*. En esta sección estudiaremos algunos problemas que pueden surgir con estas geometrías y exploraremos algunas nuevas.\n",
    "\n",
    "## *Scatterplots*\n",
    "\n",
    "En esta sección vamos a explorar el dataset *Vocab*, que os facilitamos en formato csv. Este dataset continene información acerca de los años de educación recibidos y una puntuación (un número entero) en un test de vocabulario realizado con más de 21,000 individuos en Estados Unidos durante 1972-2004. Importamos el dataset haciendo uso de la función *read.csv*:\n"
   ]
  },
  {
   "cell_type": "code",
   "execution_count": null,
   "metadata": {},
   "outputs": [],
   "source": [
    "vocab = read.csv('Vocab.csv', colClasses=c('numeric', 'character', 'numeric', 'numeric'))\n",
    "head(vocab)"
   ]
  },
  {
   "cell_type": "markdown",
   "metadata": {},
   "source": [
    "### Ejercicio 6: Dibuja un *scatterplot* de la puntuación en el test (*vocabulary*) en función del número de años de estudios (*scatterplot*). ¿Observas algún problema en la representación?"
   ]
  },
  {
   "cell_type": "code",
   "execution_count": null,
   "metadata": {},
   "outputs": [],
   "source": [
    "# Intenta resolver el ejercicio antes de seguir leyendo\n",
    "# Escribe aquí la solución, usa el dataset vocab\n",
    "ggplot(vocab, aes(x = education, y = vocabulary)) + geom_point()\n",
    "# Al ser datos discretos todos los puntos caen en las mismas posiciones."
   ]
  },
  {
   "cell_type": "markdown",
   "metadata": {},
   "source": [
    "Es obvio que tenemos un problema de *overplotting* debido a que las puntuaciones son números enteros. En este caso, no podemos solucionar el *overplotting* mediante el uso de transparencia. Lo que sí podemos hacer es intentar modificar levemente la posición de cada punto añadiendo un poco de ruido. A este procedimiento se le conoce como **jittering**.  Afortunadamente, al igual que podemos modificar el color o la forma de un punto, ggplot también nos permite modificar la posición de algunas geometrías mediante el atributo *position*.\n",
    "\n",
    "### Ejercicio 7: Modifica el *plot* anterior añadiéndole *jittering*. Para ello establece el atributo *position='jitter'* dentro  de *geom_point*.  Con *jittering* sí tiene sentido aplicar transparencia,  así que añade una poca.\n"
   ]
  },
  {
   "cell_type": "code",
   "execution_count": null,
   "metadata": {},
   "outputs": [],
   "source": [
    "# Escribe aquí la solución, usa el dataset vocab\n",
    "ggplot(vocab, aes(x = education, y = vocabulary)) + geom_point(position = 'jitter', alpha = 0.2)"
   ]
  },
  {
   "cell_type": "markdown",
   "metadata": {
    "collapsed": true
   },
   "source": [
    "Con el último *plot* podemos hacernos una idea de la posible relación existente entre *vocabulary* y *education*: ¡parece que la puntuación obtenida aumenta con los años de educación!\n",
    "\n",
    "### Ejercicio 8: Confirma que los años de educación aumentan (en término medio) la puntuación de los alumnos añadiendo una regresión a la gráfica anterior (*geom_smooth*). Usa el atributo *method* para  especificar que quieres hacer una regresión lineal ('lm'). \n",
    "\n"
   ]
  },
  {
   "cell_type": "code",
   "execution_count": null,
   "metadata": {},
   "outputs": [],
   "source": [
    "# Escribe aquí la solución\n",
    "ggplot(vocab, aes(x = education, y = vocabulary)) + geom_point(position = 'jitter', alpha = 0.2) + geom_smooth(method = 'lm')"
   ]
  },
  {
   "cell_type": "markdown",
   "metadata": {},
   "source": [
    "¡Una buena gráfica puede ser la mejor guía para sacar el máximo partido a los datos!"
   ]
  },
  {
   "cell_type": "markdown",
   "metadata": {},
   "source": [
    "## Histogramas y gráficos de barras\n",
    "\n",
    "El uso más habitual de la geometría tipo *barra* es la creación de histogramas. Dado que uno de los elementos gramaticales de **ggplot** son los estadísticos (es decir, que **ggplot** puede calcular los estadísticos más comunes por nosotros), realizar un histograma es muy sencillo. El único elemento estético a especificar es *x*: la variable de la que queremos construir el histograma. Por ejemplo, podemos crear un histograma para la variable 'education' mediante el comando:\n",
    "\n"
   ]
  },
  {
   "cell_type": "code",
   "execution_count": null,
   "metadata": {
    "scrolled": true
   },
   "outputs": [],
   "source": [
    "ggplot(vocab, aes(x = education)) + geom_histogram()"
   ]
  },
  {
   "cell_type": "markdown",
   "metadata": {},
   "source": [
    "### Ejercicio 9: El histograma anterior sugiere una distribución de edades  un tanto extraña. ¿Realmente existen edades para los que no existan datos? Si no es así, ¿A que pueden deberse los huecos del histograma?\n",
    "\n",
    "¡¡Recuerda que cualquier gráfica debe ir acompañada de un pensamiento crítico y reflexivo sobre lo que estamos viendo!!"
   ]
  },
  {
   "cell_type": "code",
   "execution_count": null,
   "metadata": {},
   "outputs": [],
   "source": [
    "# Intenta solucionar el ejercicio antes de seguir leyendo.\n",
    "# No tienes porque usar código si crees que no es necesario.\n",
    "\n",
    "# Hay datos para todas las edades como se vió en el scatterplot anterior.\n",
    "# Es posible que las evaluaciones se realicen siempre en lso mismos meses.\n",
    "# Los rangos del histograma son de menos de un año, por lo que los rangos que han\n",
    "# caido en esos meses se quedan vacios."
   ]
  },
  {
   "cell_type": "markdown",
   "metadata": {},
   "source": [
    "\n",
    "### Ejercicio 10: Compruebe si se puede obtener un histograma mejor eligiendo otro tamaño para los bins. Tras observar los datos que queremos reprensentar ¿Cuál es la mejor elección para *binwidth*?"
   ]
  },
  {
   "cell_type": "code",
   "execution_count": null,
   "metadata": {},
   "outputs": [],
   "source": [
    "# Escribe aquí la solución\n",
    "# ggplot(vocab, aes(x=education)) + geom_histogram(bins = 20)\n",
    "ggplot(vocab, aes(x = education)) + geom_histogram(binwidth = 1)\n",
    "# El mejor binwidth es de 1 porque así los rangos son de un año para cada barra del histograma\n",
    "# de esta forma evitamos que se creen barras para menos de un año."
   ]
  },
  {
   "cell_type": "markdown",
   "metadata": {},
   "source": [
    "### Ejercicio 11: Crea una representación de la función de densidad especificando como atributo estético *y=..density..*. Compara el gráfico actual con el histograma que realizamos al principio de la sección.\n",
    "\n",
    "En este caso *y=..density..* esta pidiendo a ggplot que construya un nuevo mapping-estético con los valores normalizados del histograma, y que emplee dicho atributo en la representación."
   ]
  },
  {
   "cell_type": "code",
   "execution_count": null,
   "metadata": {},
   "outputs": [],
   "source": [
    "# Escribe aquí la solución\n",
    "ggplot(vocab, aes(x = education, y = ..density..)) + geom_histogram(binwidth = 1)\n",
    "# En este caso el eje y esta en forma relativa, o como porcentaje."
   ]
  },
  {
   "cell_type": "markdown",
   "metadata": {},
   "source": [
    "\n",
    "### Ejercicio 12: Volvamos al histograma original (con el *bindwidth* adecuado). Modifica el código para obtener dos histogramas coloreados por sexo (utiliza el atributo 'fill').  ¿Existe algún problema perceptual en el gráfico?\n",
    "\n"
   ]
  },
  {
   "cell_type": "code",
   "execution_count": null,
   "metadata": {},
   "outputs": [],
   "source": [
    "# Intenta resolver el ejercicio antes de seguir leyendo\n",
    "# Escribe aquí la solución\n",
    "ggplot(vocab, aes(x = education, fill = sex)) + geom_histogram(binwidth = 1)\n",
    "# Parece que se hace mas evaluaciones a chicas."
   ]
  },
  {
   "cell_type": "markdown",
   "metadata": {},
   "source": [
    "Sí que existe un problema perceptual en el gráfico anterior: ¡no está claro si las barras están apiladas o no! Evidentemente, deberíamos evitar cualquier ambigüedad en nuestros gráficos. Por defecto los gráficos están apilados, aunque no es obvio. Afortunadamente, existen modificadores de posición para los gráficos de barra (recuerda el modificador **jitter** de geom_point). **Prueba las distintas opciones para *position* y usa la más adecuada para representar los dos histogramas**. Las posibles opciones son 'identity', 'jitter', 'dodge', 'stack' y 'fill'."
   ]
  },
  {
   "cell_type": "code",
   "execution_count": null,
   "metadata": {},
   "outputs": [],
   "source": [
    "# Escribe aquí la solución\n",
    "ggplot(vocab, aes(x = education, fill = sex)) + geom_histogram(binwidth = 1, position = 'dodge')\n",
    "# Con identity las graficas se solapan y no permiten ver bien algunas barras.\n",
    "# Con jitter las barras se posicionan de forma un poco aleatoria lo que provoca confusion.\n",
    "# Con dodge las barras se colocan una al lado de la otra de forma ordenada, lo que permite ver y comparar cada barra.\n",
    "# Con stack las barras se posicionan como por defecto, apiladas, lo que genera confusion sobre si las barras estan apiladas o se sobreponen.\n",
    "# Con fill las barras llenan el espacio de arriba a abajo lo permite comparar entre chicos y chicas, pero no entre edades, porlo que no es una buena eleccion.\n",
    "# En este caso cosidera la opcion dodge como la mas adecuada."
   ]
  },
  {
   "cell_type": "markdown",
   "metadata": {},
   "source": [
    "# Facets\n",
    "\n",
    "Imaginemos que queremos separar un conjunto de datos por una o varias variables nominales (las *facets*) y representar los subconjuntos resultantes en gráficos adyacentes. Para realizar este tipo de gráficos **ggplot** ofrece las funciones *facet_grid* y *facet_wrap*. La función *facet_wrap* acepta como argumento el nombre de la variable por la cuál queremos separar el dataset, mientras que *facet_grid* permite especificar 2 variables. En este notebook nos centraremos en *facet_wrap*.\n",
    "\n",
    "Anteriormente hemos representado el precio de los diamantes frente al número de Quilates, distinguiendo mediante el color distintos tipos de corte. Podemos realizar una gráfica del precio Vs Quilates separando por el tipo de corte. En este caso, como solo tenemos una variable, emplearemos la función *facet_wrap* (¡Fíjate en la virgulilla que precede a *cut*! Esta es una forma estándar en R de especificar que una variable depende de la variable *cut*):\n"
   ]
  },
  {
   "cell_type": "code",
   "execution_count": null,
   "metadata": {},
   "outputs": [],
   "source": [
    "ggplot(diamonds, aes(x=carat,y=price)) + geom_point(alpha=0.1) + facet_wrap(~cut)"
   ]
  },
  {
   "cell_type": "markdown",
   "metadata": {},
   "source": [
    "### Ejercicio 13: Usando el dataset meat, representa el consumo de carne a lo largo del tiempo, separando el dataset original por tipo de carne (Piensa qué formato debes emplear, *long* o *wide*). Añade a cada sub-gráfico una regresión *loess* sin intervalo de confianza."
   ]
  },
  {
   "cell_type": "code",
   "execution_count": null,
   "metadata": {},
   "outputs": [],
   "source": [
    "# Escribe aquí la solución\n",
    "ggplot(meat_long, aes(x = date, y = consumption)) + geom_smooth(method = 'loess', se = FALSE) + facet_wrap(~meat_type)"
   ]
  },
  {
   "cell_type": "markdown",
   "metadata": {},
   "source": [
    "Por defecto, *facet_wrap* usa la misma escala para los ejes x e y. **Mejora el gráfico anterior usando el parámetro *scales* **. El parámetro scales acepta los valores 'free_x', 'free_y' y 'free'. ¿Qué efecto tiene cada uno de ellos? "
   ]
  },
  {
   "cell_type": "code",
   "execution_count": null,
   "metadata": {},
   "outputs": [],
   "source": [
    "# Escribe aquí la solución\n",
    "g = ggplot(meat_long, aes(x = date, y = consumption)) + geom_smooth(method = 'loess', se = FALSE)\n",
    "g + facet_wrap(~meat_type, scale = 'free')\n",
    "# Con scale = 'free_x' la escala en x se ajusta automaticamente a los limites de x\n",
    "# Con scale = 'free_y' la escala en y se ajusta automaticamente a los limites de y\n",
    "# Con scale = 'free' la escala en x e y se ajustan automaticamente a los limites de x e y respectivamente."
   ]
  },
  {
   "cell_type": "markdown",
   "metadata": {},
   "source": [
    "# Estadísticos\n",
    "\n",
    "**ggplot** incorpora también una capa estadística con la que es sencillo añadir representaciones de los estadísticos más comunes a nuestros gráficos. Nosotros ya hemos usado esta capa de forma implícita cuando usamos geometrías que implican cálculos estadísticos, como *geom_histogram*, *geom_smooth* o *geom_density*. Estas geometrías hacen uso de las funciones estadísticas *stat_histogram*, *stat_smooth* y *stat_density*, respectivamente (todas las funciones de la capa estadística comienzan por *stat_*. De hecho, estas dos llamadas serían idénticas: "
   ]
  },
  {
   "cell_type": "code",
   "execution_count": null,
   "metadata": {},
   "outputs": [],
   "source": [
    "p = ggplot(meat, aes(x=date, y = beef)) + geom_line() + geom_point()\n",
    "p + stat_smooth()\n",
    "p + geom_smooth()"
   ]
  },
  {
   "cell_type": "markdown",
   "metadata": {},
   "source": [
    "### Ejercicio 14: El estadístico *geom_density* permite hacer una (estimación de densidad mediante kernels)[https://en.wikipedia.org/wiki/Kernel_density_estimation]. Añade al histograma normalizado del ejercicio 11 una estimación de la función de densidad. Modifica el atributo *adjust* para controlar la suavidad de la estimación. Repite esto mismo separando el dataset (usando *facets*) mediante la variable *sex*. ¿Son las distribuciones similares?:"
   ]
  },
  {
   "cell_type": "code",
   "execution_count": null,
   "metadata": {},
   "outputs": [],
   "source": [
    "# Escribe aquí la solución"
   ]
  },
  {
   "cell_type": "markdown",
   "metadata": {},
   "source": [
    "Además de estadísticos directamente asociados con geometrías también existen otros funciones que nos permiten hacer un resumen estadístico de nuestros datos. Para realizar un resumen de nuestros datos emplearemos la función *stat_summary*. Esta función recibe como argumento una función (*fun.data*) con la que calcula los resumenes estadísticos de los datos.\n",
    "**ggplot** nos ofrece dos funciones muy útiles para eso:\n",
    "\n",
    "*mean_cl_normal* calcula la media y un intervalo de confianza para la misma bajo la asunción de normalidad. \n",
    "*mean_cl_boot* también calcula un intervalo de confianza para la media, pero hace uso de [*bootstraping*](https://en.wikipedia.org/wiki/Bootstrapping_%28statistics%29) para obtener el intervalo sin necesidad de asumir normalidad. \n",
    "\n",
    "Para este apartado generaremos unos datos aleatorios con alguna distribución estadística concreta con los que así comprobar los resultados. Por ejemplo, generaremos datos siguiendo dos distribuciones normales y agrupados en dos grupos distintos(que llamaremos 1 y 2). El siguiente código simula los datos:"
   ]
  },
  {
   "cell_type": "code",
   "execution_count": null,
   "metadata": {},
   "outputs": [],
   "source": [
    "npoints = 25\n",
    "# Simulate data from a normal distribution\n",
    "data1 = rnorm(npoints, mean=3, sd=1)\n",
    "data2 = rnorm(npoints, mean=5, 1.5)\n",
    "labels = factor(rep(c(1,2),each=npoints))\n",
    "data = data.frame(value=c(data1, data2), label=labels)\n",
    "head(data)"
   ]
  },
  {
   "cell_type": "markdown",
   "metadata": {},
   "source": [
    "Dado que los datos siguen una distribución normal, para crear un gráfico con los datos y un intervalo de confianza para la media podemos proceder:"
   ]
  },
  {
   "cell_type": "code",
   "execution_count": null,
   "metadata": {},
   "outputs": [],
   "source": [
    "# Es necesario el paquete Hmisc para el cálculo de los estadísticos\n",
    "library('Hmisc')\n",
    "ggplot(data,aes(x=label,y=value)) + geom_point() + stat_summary(fun.data = mean_cl_normal,col='blue')"
   ]
  },
  {
   "cell_type": "markdown",
   "metadata": {},
   "source": [
    "Observa que, además de los estadísticos, también hemos dibujado a los propios datos en el gráfico. En general, esto es una buena práctica ya que si sólo pintamos los estadísticos resumen estamos perdiendo mucha información acerca de los datos (¿son simétricos en torno a la media?, ¿hay *outliers*?. Es de destacar que el intervalo de confianza se ha representado mediante una nueva geometría: *geom_pointrange*, que requiere como atributos estéticos *y*, *ymin* e *ymax*. Esto es importante porque, como veremos luego, podemos implementar nuestras propias funciones de resumen con la única condición de que devuelvan estas entradas.\n",
    "\n",
    "\n",
    "### Ejercicio 15: Mejora el gráfico anterior añadiendo *jitter* y cambiando el  tamaño (incrementándolo ligeramente) y color de los estadísticos (algún otro que se distinga mejor). En esta ocasión, usa *geom_jitter* (en lugar de *geom_point(position='jitter')* y modifica el nivel del ruido en los ejes x e y mediante los parámetros *width* y *height*.\n"
   ]
  },
  {
   "cell_type": "code",
   "execution_count": null,
   "metadata": {},
   "outputs": [],
   "source": [
    "# Escribe aquí la solución. usa el data.frame data"
   ]
  },
  {
   "cell_type": "markdown",
   "metadata": {},
   "source": [
    "\n",
    "### Ejercicio 16: Usando los datos aleatorios generados abajo obtén un resumen usando *mean_cl_boot*. "
   ]
  },
  {
   "cell_type": "code",
   "execution_count": null,
   "metadata": {},
   "outputs": [],
   "source": [
    "npoints = 20\n",
    "# simulation\n",
    "# Datos no  normales!!\n",
    "data1 = rchisq(npoints, df=2) \n",
    "data2 = rchisq(npoints, df=1) \n",
    "labels = factor(rep(c(1,2),each=npoints))\n",
    "data = data.frame(value=c(data1, data2), label=labels)\n",
    "head(data)"
   ]
  },
  {
   "cell_type": "code",
   "execution_count": null,
   "metadata": {},
   "outputs": [],
   "source": [
    "# Escribe aquí la solución "
   ]
  },
  {
   "cell_type": "markdown",
   "metadata": {},
   "source": [
    "Como hemos mencionado antes podemos crear nuestras propias funciones de resumen con la única condición de que reciban como argumento un vector y devuelvan un *data.frame* con las entradas *y*, *ymin* e *ymax*. En el siguiente ejemplo, se implementa una función sin mucha utilidad estadística que devuelve el mínimo, la mediana y el máximo de una serie de datos:"
   ]
  },
  {
   "cell_type": "code",
   "execution_count": null,
   "metadata": {},
   "outputs": [],
   "source": [
    "# Esta función no es muy útil\n",
    "useless = function (series)\n",
    "    data.frame('y' = median(series),'ymin'= min(series), 'ymax' = max(series))\n",
    "\n",
    "ggplot(data,aes(x=label,y=value)) + geom_point() + stat_summary(fun.data = useless, color=\"blue\")"
   ]
  },
  {
   "cell_type": "markdown",
   "metadata": {},
   "source": [
    "### Ejercicio 17: Implementa una función que devuelva como estadísticos la mediana y los percentiles 0.10 y 0.90 (usa la función *quantile* de R). Utiliza esta función en combinación con *stat_summary* sobre los datos sintéticos anteriores. Recuerda mejorar el plot anterior añadiendo *jitter*. "
   ]
  },
  {
   "cell_type": "code",
   "execution_count": null,
   "metadata": {},
   "outputs": [],
   "source": [
    "# Esta función no es muy útil... Complétala para que lo sea\n",
    "useful = function (series)\n",
    "    data.frame('y' = 0,'ymin'= 0, 'ymax' = 0)\n",
    "# Introduce aquí el comando ggplot"
   ]
  },
  {
   "cell_type": "markdown",
   "metadata": {},
   "source": [
    "# Boxplots y violin-plots\n",
    "Aunque nos hemos entretenido usando las funciones resumen, podríamos haber conseguido un efecto similar mediante los clásicos boxplots (*geom_boxplot*) o los [violin plots](https://en.wikipedia.org/wiki/Violin_plot) (*geom_violin*).\n",
    "\n",
    "### Ejercicio 18: Usando los datos del ejercicio anterior, crea un boxplot y un violin-plot. Añade por encima de ellos los propios puntos con *jitter*. \n",
    "Normalmente los boxplots suelen pintar outliers. Para evitar pintarlos dos veces (una mediante *boxplot* y otro mediante *geom_jitter*), usa *outliers.shape=NA* dentro de geom_boxplot."
   ]
  },
  {
   "cell_type": "code",
   "execution_count": null,
   "metadata": {},
   "outputs": [],
   "source": [
    "# Escribe aquí la solución"
   ]
  },
  {
   "cell_type": "markdown",
   "metadata": {},
   "source": [
    "# Anotaciones y temas\n",
    "\n",
    "Finalmente, veremos como podemos dar un título a nuestros gráficos y como podemos modificar el aspecto estético final de nuestros gráficos. Mediante los llamados **temas**, **ggplot** permite  al usuario controlar cualquier elemento del gráfico no relacionado directamente con los datos. De hecho, es posible crear y editar cualquier tema para personalizar nuestros gráficos. Para modificar el tema aplicado a un gráfico emplearemos la función *theme_xxx()* siendo *xxx* el nombre del tema. Fíjate como este diseño sigue la filosofía de construir gráficas mediante la combinación de distintas capas.\n",
    "\n",
    "### Ejercicio 19: Guarda el *scatterplot* de *Vocabulary* Vs *education* (nuestra versión con *jitter* ) en una variable y luego aplícale distintos temas. Puedes ver los temas disponibles explorando en: http://ggplot2.tidyverse.org/reference/ggtheme.html.\n"
   ]
  },
  {
   "cell_type": "code",
   "execution_count": null,
   "metadata": {},
   "outputs": [],
   "source": [
    "# Escribe aquí la solución"
   ]
  },
  {
   "cell_type": "markdown",
   "metadata": {
    "collapsed": true
   },
   "source": [
    "Finalmente, aunque **ggplot** incluye automáticamente un nombre para los ejes x e y puede ser necesario modificarlos para aclararlos o indicar las unidades de medida (¡¡Importantísimo!!). También suele ser una buena idea incluir un título que aclare qué es lo que se está representando.\n",
    "\n",
    "![Los gráficos siempre con títulos](http://imgs.xkcd.com/comics/convincing.png)\n",
    "\n",
    "#### Ejercicio 20: Utiliza las funciones *xlab()*, *ylab()* y *ggtitle()* para modificar los nombres de los ejes y el título de nuestro gráfico anterior."
   ]
  },
  {
   "cell_type": "code",
   "execution_count": null,
   "metadata": {},
   "outputs": [],
   "source": [
    "# Escribe aquí la solución"
   ]
  },
  {
   "cell_type": "markdown",
   "metadata": {},
   "source": [
    "## Apéndice: R y ggplot2 en Jupyter\n",
    "En una terminal de R (evita hacerlo en una consola proporcionada por cualquier IDE), instala los siguientes paquetes:\n",
    "\n",
    "`> install.packages(c('repr', 'IRdisplay', 'evaluate', 'crayon', 'pbdZMQ', 'devtools', 'uuid', 'digest'))`\n",
    "`> devtools::install_github('IRkernel/IRkernel')`\n",
    "\n",
    "Registra el kernel de R en Jupyter:\n",
    "\n",
    "`> IRkernel::installspec()`\n",
    "\n",
    "Finalmente, instala los paquetes necesarios para la práctica:\n",
    "\n",
    "`> install.packages(c('ggplot2', 'Hmisc'))` \n",
    "\n",
    "\n",
    "Si trabajas con anaconda también puedes crear un nuevo *environment* para trabajar con R:\n",
    "\n",
    "`$ conda create -n my-r-env -c r r-essentials`\n",
    "\n",
    "Una vez creado el nuevo *environment*, recuerda instalar el paquete *Hmisc* mediante:\n",
    "\n",
    "`$ conda install -c r r-hmisc`"
   ]
  }
 ],
 "metadata": {
  "kernelspec": {
   "display_name": "R",
   "language": "R",
   "name": "ir"
  },
  "language_info": {
   "codemirror_mode": "r",
   "file_extension": ".r",
   "mimetype": "text/x-r-source",
   "name": "R",
   "pygments_lexer": "r",
   "version": "4.1.0"
  }
 },
 "nbformat": 4,
 "nbformat_minor": 1
}
