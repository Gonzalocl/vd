{
 "cells": [
  {
   "cell_type": "markdown",
   "metadata": {},
   "source": [
    "# Visualización dinámica\n",
    "\n",
    "En esta sesión estudiaremos algunas técnicas para la visualización dinámica de conjuntos de datos que tienen alguna componente temporal, haciendo especial énfasis en aquellos problemas para los que el dinamismo en la representación realmente supone alguna ventaja con respecto a visualizaciones estáticas clásicas. \n",
    "\n",
    "Comenzaremos con una breve descripción técnica de las herramientas que utilizaremos para generar las animaciones, así como su integración con `notebook`. A continuación, presentaremos diferentes ejemplos de problemas para los cuales la visualización dinámica permite comprender más en detalle el conjunto de datos o su comportamiento."
   ]
  },
  {
   "cell_type": "markdown",
   "metadata": {
    "collapsed": true
   },
   "source": [
    "## Visualización interactiva con <tt>matplotlib</tt>\n",
    "\n",
    "Matplotlib da soporte explícito para la creación de animaciones a través de la API [`matplotlib.animation`](http://matplotlib.org/api/animation_api.html). En este paquete podemos encontrar distintas clases y métodos para crear animaciones, controlar su ciclo de vida, reproducirlas y exportarlas a un formato conveniente. En la documentación oficial podemos encontrar también diversos [ejemplos ilustrativos](http://matplotlib.org/1.5.1/examples/animation/).\n",
    "\n",
    "Esta API está soportada en `notebook` [a partir de la versión 1.4 de `matplotlib`](http://matplotlib.org/users/whats_new.html#new-in-matplotlib-1-4) mediante el uso de un backend interactivo.Esto es necesario debido a que la opción clásica `%matplotlib inline` sólo permite generar imágenes estáticas. Este backend se denomina `notebook`, y lo seleccionaremos con el siguiente [`magic`](http://ipython.readthedocs.org/en/stable/interactive/tutorial.html#magic-functions):"
   ]
  },
  {
   "cell_type": "code",
   "execution_count": null,
   "metadata": {},
   "outputs": [],
   "source": [
    "%matplotlib notebook"
   ]
  },
  {
   "cell_type": "markdown",
   "metadata": {},
   "source": [
    "Comprobamos las capacidades de este backend creando una gráfica sencilla:"
   ]
  },
  {
   "cell_type": "code",
   "execution_count": null,
   "metadata": {},
   "outputs": [],
   "source": [
    "import matplotlib.pyplot as plt\n",
    "import numpy as np\n",
    "plt.style.use('ggplot')\n",
    "plt.plot(np.arange(-5,5,0.1)**3);"
   ]
  },
  {
   "cell_type": "markdown",
   "metadata": {},
   "source": [
    "Como podemos ver, la gráfica resultante es interactiva, lo que nos permite hacer zoom, desplazar los ejes, modificar el tamaño, etc. Si en algún momento deseamos terminar esta interactividad, podemos hacer que la gráfica se convierta en una imagen estática, equivalente a si usásemos el backend `inline`."
   ]
  },
  {
   "cell_type": "markdown",
   "metadata": {},
   "source": [
    "## Análisis de información sociológica\n",
    "\n",
    "En esta sección utilizaremos animaciones para analizar distintos tipos de información sociológica. El sitio web [Gapminder](http://www.gapminder.org/) es un magnífico repositorio de este tipo de información a nivel mundial, incluyendo series históricas desde el año 1800. En la hoja de cálculo <tt>social_data.xlsx</tt> se incluye información descargada de esta web para distintas variables y países.\n",
    "\n",
    "Nuestro primer objetivo será *visualizar la evolución temporal de la esperanza de vida de los habitantes de un conjunto de países frente a la [renta per cápita, o producto interior bruto (GDP) por habitante](https://en.wikipedia.org/wiki/Per_capita_income)*.\n",
    "\n",
    "Hacemos una breve exploración inicial de nuestros datos:"
   ]
  },
  {
   "cell_type": "code",
   "execution_count": null,
   "metadata": {},
   "outputs": [],
   "source": [
    "import pandas as pd\n",
    "from IPython.display import display, HTML\n",
    "df = pd.read_excel('social_data.xlsx', sheet_name=None)\n",
    "#Para cada hoja de cálculo dentro del archivo, mostramos la cabecera del DataFrame como HTML.\n",
    "for sh in df:\n",
    "    display(HTML('<h3>' + sh + '</h3>' + df[sh].head().to_html()))"
   ]
  },
  {
   "cell_type": "markdown",
   "metadata": {},
   "source": [
    "Como podemos ver, disponemos de información sobre la renta per cápita (GDP), la esperanza de vida, y la población de cada país desde el año 1800. \n",
    "\n",
    "En la primera parte de la práctica, analizaremos la relación entre esperanza de vida y renta per cápita de los siguientes países: China, EEUU, Brasil, Alemania, Sudáfrica y Australia."
   ]
  },
  {
   "cell_type": "code",
   "execution_count": null,
   "metadata": {
    "scrolled": false
   },
   "outputs": [],
   "source": [
    "countries = ['China', 'United States', 'Brazil', 'Germany', 'South Africa', 'Australia']\n",
    "#Indexamos los Dataframes de \"GDP\" y \"Life Expectancy\" por países, y filtramos los seleccionados.\n",
    "gdp = df['GDP'].set_index('Country').loc[countries]\n",
    "lfexp = df['Life Expectancy'].set_index('Country').loc[countries]\n",
    "display(gdp)"
   ]
  },
  {
   "cell_type": "markdown",
   "metadata": {},
   "source": [
    "Como primera exploración visual, dibujamos un gráfico de burbujas que muestre la relación en el año 2015 entre la esperanza de vida y la renta per cápita para los países seleccionados."
   ]
  },
  {
   "cell_type": "code",
   "execution_count": null,
   "metadata": {},
   "outputs": [],
   "source": [
    "fig = plt.figure()\n",
    "ax = fig.add_subplot(111)\n",
    "#Configuración de las etiquetas de los ejes\n",
    "plt.xlabel('Income per person (Inflation-adjusted $)')\n",
    "plt.ylabel('Life Expectancy (years)')\n",
    "#Creación de un punto para cada país\n",
    "for country in countries:\n",
    "    plt.plot([gdp[2015][country]], [lfexp[2015][country]], 'o', label=country, markersize=30)\n",
    "#Leyenda:\n",
    "ax.legend(loc='lower right', fontsize=12, markerscale=0.5, numpoints=1, frameon=False)"
   ]
  },
  {
   "cell_type": "markdown",
   "metadata": {},
   "source": [
    "<div style=\"font-size:125%; display:inline; font-weight:bold\">Ejercicio:</div> *Crear una animación a partir de la gráfica anterior, que permita visualizar la evolución de la relación entre renta per cápita y esperanza de vida durante toda la serie temporal disponible.* \n",
    "\n",
    "La forma más simple y recomendada de crear una animación en matplotlib es a través de la función [`FuncAnimation`](http://matplotlib.org/api/animation_api.html#matplotlib.animation.FuncAnimation), que genera el conjunto de *frames* a partir de la ejecución repetida de una función definida por el usuario (en este caso, la función `update_plot`). Los valores de los argumentos pasados a esta función y el intervalo entre imágenes consecutivas se controlan con los parámetros `frames` e `interval`."
   ]
  },
  {
   "cell_type": "code",
   "execution_count": null,
   "metadata": {},
   "outputs": [],
   "source": [
    "import matplotlib.animation as animation\n",
    "fig = plt.figure()\n",
    "ax = fig.add_subplot(111)\n",
    "#Configuración de los límites de la gráfica y de las etiquetas de los ejes.\n",
    "ax.set_xlim((0, 60000))\n",
    "ax.set_ylim((0, 90))\n",
    "plt.xlabel('Income per person (Inflation-adjusted $)')\n",
    "plt.ylabel('Life Expectancy (years)')\n",
    "#Creación de un punto para cada país, inicialmente sin datos.\n",
    "circs = {}\n",
    "for country in countries:\n",
    "    circs[country] = plt.plot([], [], 'o', label=country, markersize=30)[0]\n",
    "#Leyenda y etiqueta para el año actual.\n",
    "ax.legend(loc='lower right', fontsize=12, markerscale=0.5, numpoints=1, frameon=False)\n",
    "cur_year = ax.annotate(\"\", (0.05, 0.9), xycoords='axes fraction', size='x-large', weight='bold')\n",
    "\n",
    "def update_plot(year):\n",
    "    \"\"\"\n",
    "    Función de animación, en la que se actualiza la posición del punto correspondiente\n",
    "    a cada país, así como la etiqueta del año actual.\n",
    "    \"\"\"\n",
    "    #Actualizar el centro de cada punto con set_data\n",
    "    for country in countries:\n",
    "        circs[country].set_data([gdp[year][country]], [lfexp[year][country]])\n",
    "    #Actualizar la etiqueta del año correspondiente con set_text\n",
    "    cur_year.set_text(str(year))\n",
    "    return list(circs.values()) + [cur_year]\n",
    "\n",
    "#Creamos la animación, ejecutando la función 'update_plot' para cada año del dataframe\n",
    "ani = animation.FuncAnimation(fig, update_plot, frames=gdp.keys(), interval=100, repeat=False)"
   ]
  },
  {
   "cell_type": "markdown",
   "metadata": {},
   "source": [
    "### Exportando animaciones a través del paquete `JSAnimation`\n",
    "\n",
    "Otro método recomendado para visualizar animaciones en un `notebook` es el uso de la librería [JSAnimation](https://github.com/jakevdp/JSAnimation). La [instalación es muy sencilla](https://gist.github.com/gforsyth/188c32b6efe834337d8a), e incluso podemos descargar directamente las fuentes del proyecto e importarlas desde nuestro código, al tratarse de un proyecto muy pequeño. Para instalar `JSAnimation` en [Anaconda](https://www.continuum.io/downloads), podemos utilizar el siguiente comando:\n",
    "\n",
    "```\n",
    "conda install -c conda-forge jsanimation\n",
    "```\n",
    "\n",
    "Esta librería evita que sea necesario utilizar un intérprete de Python cada vez que deseemos reproducir una animación ya generada, pues esta se almacena completamente en el código HTML y se reproduce utilizando Javascript.\n",
    "\n",
    "Antes de utilizar `JSAnimation`, se recomienda seleccionar el backend `inline` de matplotlib. A continuación, simplemente debemos importar la función `display_animation`."
   ]
  },
  {
   "cell_type": "code",
   "execution_count": null,
   "metadata": {},
   "outputs": [],
   "source": [
    "%matplotlib inline\n",
    "from matplotlib import animation\n",
    "from IPython.display import HTML"
   ]
  },
  {
   "cell_type": "markdown",
   "metadata": {},
   "source": [
    "Esta función recibe cualquier objeto de tipo [`Animation`](http://matplotlib.org/api/animation_api.html#matplotlib.animation.Animation) y genera un HTML dinámico que puede incluirse en cualquier página web, incluido un `notebook` exportado como HTML. Además, se incluye un conjunto de controles que nos permiten pausar, modificar la velocidad de la animación, o seleccionar un instante concreto de la misma. El único inconveniente de usar este paquete es que la animación debe ser renderizada completamente antes de comenzar a reproducirse, lo que resulta incómodo para programar y depurar. Además, el archivo de `notebook` resultante de usar este paquete será considerablemente más grande, pues almacena la información binaria de todas las imágenes que componen las animaciones.\n",
    "\n",
    "A continuación se muestra la misma animación del ejemplo anterior renderizada a través de `JSAnimation`."
   ]
  },
  {
   "cell_type": "code",
   "execution_count": null,
   "metadata": {},
   "outputs": [],
   "source": [
    "HTML(ani.to_jshtml())"
   ]
  },
  {
   "cell_type": "code",
   "execution_count": null,
   "metadata": {},
   "outputs": [],
   "source": [
    "#Volvemos a seleccionar el backend notebook para las siguientes animaciones\n",
    "%matplotlib notebook"
   ]
  },
  {
   "cell_type": "markdown",
   "metadata": {},
   "source": [
    "<div style=\"font-size:125%; display:inline; font-weight:bold\">Ejercicio:</div> *Crear una nueva animación en la cual el tamaño del marcador correspondiente a cada país se actualice en función de la población. Utilizar para ello la función `get_population_markersize` que se proporciona a continuación:*"
   ]
  },
  {
   "cell_type": "code",
   "execution_count": null,
   "metadata": {},
   "outputs": [],
   "source": [
    "def get_population_markersize(pop):\n",
    "    \"\"\"\n",
    "    Función para obtener el tamaño del marcador correspondiente a una determinada población.\n",
    "    A una población de 2 millones se corresponde un tamaño 4.0, que escalará de forma que\n",
    "    la superficie del marcador sea proporcional a esta relación.\n",
    "    \"\"\"\n",
    "    return 4*np.sqrt(pop/2e6)"
   ]
  },
  {
   "cell_type": "markdown",
   "metadata": {},
   "source": [
    "Además de esta función, es necesario tener en cuenta que los datos de población no están disponibles para todos los años en la serie temporal."
   ]
  },
  {
   "cell_type": "code",
   "execution_count": null,
   "metadata": {},
   "outputs": [],
   "source": [
    "pop = df['Population'].set_index('Country').loc[countries]\n",
    "display(pop)"
   ]
  },
  {
   "cell_type": "code",
   "execution_count": null,
   "metadata": {},
   "outputs": [],
   "source": [
    "#Actualizamos el conjunto de años para los DataFrames de \"GDP\" y \"Life Expectancy\"\n",
    "#Nota: pop.keys() puede resultar de ayuda.\n",
    "gdp_filt = gdp[pop.keys()[:-10]]\n",
    "lfexp_filt = lfexp[pop.keys()[:-10]]\n",
    "display(gdp_filt)"
   ]
  },
  {
   "cell_type": "code",
   "execution_count": null,
   "metadata": {},
   "outputs": [],
   "source": [
    "fig = plt.figure()\n",
    "ax = fig.add_subplot(111)\n",
    "#Configuración de los límites de la gráfica y de las etiquetas de los ejes.\n",
    "ax.set_xlim((0, 60000))\n",
    "ax.set_ylim((0, 90))\n",
    "plt.xlabel('Income per person (Inflation-adjusted $)')\n",
    "plt.ylabel('Life Expectancy (years)')\n",
    "#Creación del punto para cada país\n",
    "circs = {}\n",
    "for country in countries:\n",
    "    circs[country] = plt.plot([], [], 'o', label=country, markersize=30)[0]\n",
    "#Leyenda y etiqueta para el año actual.\n",
    "ax.legend(loc='lower right', fontsize=12, markerscale=0.5, numpoints=1, frameon=False)\n",
    "cur_year = ax.annotate(\"\", (0.05, 0.9), xycoords='axes fraction', size='x-large', weight='bold')\n",
    "\n",
    "def update_plot(year):\n",
    "    \"\"\"\n",
    "    Función de animación, en la que se actualiza la posición y el tamaño del punto\n",
    "    correspondiente a cada país, así como la etiqueta del año actual.\n",
    "    \"\"\"\n",
    "    #En este caso, además de actualizar la posición de cada punto con \"set_data\", debemos\n",
    "    #actualizar el tamaño de cada punto con \"set_markersize\"\n",
    "    for country in countries:\n",
    "        circs[country].set_data([gdp[year][country]], [lfexp[year][country]])\n",
    "        circs[country].set_markersize(get_population_markersize(pop[year][country]))\n",
    "    cur_year.set_text(str(year))\n",
    "    return list(circs.values()) + [cur_year]\n",
    "\n",
    "#Creamos la animación con \"FuncAnimation\".\n",
    "ani = animation.FuncAnimation(fig, update_plot, frames=gdp_filt.keys(), interval=100, repeat=False)"
   ]
  },
  {
   "cell_type": "markdown",
   "metadata": {},
   "source": [
    "<div style=\"font-size:125%; display:inline; font-weight:bold\">Ejercicio opcional:</div> *Repetir la animación anterior, pero incluyendo todos los años entre 1800 y 2015. Para aquellos años en los cuales no se dispone de datos de población, realizar una interpolación lineal para obtener una estimación del valor.*"
   ]
  },
  {
   "cell_type": "markdown",
   "metadata": {},
   "source": [
    "<div style=\"font-size:125%; display:inline; font-weight:bold\">Ejercicio:</div> *Crear una animación que muestre las pirámides de población resultantes de las [proyecciones de población para los años 2015-2064 del Instituto Nacional de Estadística](http://www.ine.es/dyngs/INEbase/es/operacion.htm?c=Estadistica_C&cid=1254736176953&menu=resultados&idp=1254735572981), que se encuentran en el fichero `population_projection.xlsx`*.\n",
    "\n",
    "En primer lugar, leemos los datos, e indexamos cada una de las tablas (hombres y mujeres) por la edad, para facilitar el acceso a los datos de interés."
   ]
  },
  {
   "cell_type": "code",
   "execution_count": null,
   "metadata": {},
   "outputs": [],
   "source": [
    "df = pd.read_excel('population_projection.xlsx', sheet_name=None)\n",
    "men, women = df['Varones'], df['Mujeres']\n",
    "men.set_index('Edad', inplace=True)\n",
    "women.set_index('Edad', inplace=True)\n",
    "display(women.head(), women.tail())"
   ]
  },
  {
   "cell_type": "markdown",
   "metadata": {},
   "source": [
    "Como vemos, disponemos de datos para cada posible valor de edad entre 1 y 99 años. Sin embargo, a la hora de realizar pirámides de población, es habitual establecer grupos de edad [en márgenes de 5 años](http://www.ine.es/prensa/np813.pdf). Esto lo podemos hacer de forma muy sencilla con pandas y las funciones [`cut()`](http://pandas.pydata.org/pandas-docs/stable/generated/pandas.cut.html) y [`groupby()`](http://pandas.pydata.org/pandas-docs/stable/generated/pandas.DataFrame.groupby.html)."
   ]
  },
  {
   "cell_type": "code",
   "execution_count": null,
   "metadata": {},
   "outputs": [],
   "source": [
    "categories, bins = pd.cut(women.index, np.append(women.index[::5], 100), retbins=True, )\n",
    "#Tanto para la serie de varones como de mujeres, debemos agrupar por las categorías creadas,\n",
    "#utilizando la función \"groupby\", y a continuación agregar el resultado sumando los valores\n",
    "#de cada categoría, con la función \"aggregate\".\n",
    "gwomen = women.groupby(categories).aggregate(np.sum)\n",
    "gmen = men.groupby(categories).aggregate(np.sum)\n",
    "gwomen.head()"
   ]
  },
  {
   "cell_type": "markdown",
   "metadata": {},
   "source": [
    "Para la visualización de los datos, el método [`barh()`](http://matplotlib.org/api/pyplot_api.html#matplotlib.pyplot.barh) de matplotlib nos proporciona una forma directa de representar las pirámides de población, necesitando únicamente pequeños ajustes estéticos."
   ]
  },
  {
   "cell_type": "code",
   "execution_count": null,
   "metadata": {},
   "outputs": [],
   "source": [
    "#Creamos dos gráficas que comparten el eje Y, y eliminamos el espacio horizontal\n",
    "fig, (axw,axm)= plt.subplots(ncols=2, sharey=True)\n",
    "plt.subplots_adjust(wspace=0)\n",
    "#Primer año en la serie temporal\n",
    "first_year = next(iter(gwomen))\n",
    "#Etiqueta que muestra el año que se está visualizando\n",
    "cur_year = plt.suptitle(str(first_year), size='x-large', weight='bold')\n",
    "#Obtenemos el máximo de la coordenada X\n",
    "xmax = max(np.amax(gwomen.values), np.amax(gmen.values))\n",
    "#Establecemos el rango de X para las dos gráficas\n",
    "axw.set_xlim((0, 1.1*xmax))\n",
    "axm.set_xlim((0, 1.1*xmax))\n",
    "#La gráfica de mujeres (a la izquierda) deberá estar invertida\n",
    "axw.invert_xaxis()\n",
    "#Otros ajustes estéticos\n",
    "axw.yaxis.set_ticks(bins)\n",
    "axm.tick_params(labelright=True)\n",
    "axw.set_title('Mujeres')\n",
    "axm.set_title('Varones')\n",
    "#Creamos la gráfica para mujeres y para varones, con la función barh\n",
    "wbars = axw.barh(bins[:-1], gwomen[first_year].values, height=5)\n",
    "mbars = axm.barh(bins[:-1], gmen[first_year].values, height=5)\n",
    "\n",
    "def update_pyramid(year):\n",
    "    \"\"\"Actualizamos la pirámide de población\"\"\"\n",
    "    #Para cada una de las barras en \"wbars\" y \"mbars\", debemos actualizar\n",
    "    #su tamaño con la función \"set_width\". Finalmente, actualizaremos\n",
    "    #también el título, referenciado por la etiqueta \"cur_year\"\n",
    "    for age, (wbar, mbar) in enumerate(zip(wbars.patches, mbars.patches)):\n",
    "        wbar.set_width(gwomen[year][age])\n",
    "        mbar.set_width(gmen[year][age])\n",
    "    cur_year.set_text(str(year))\n",
    "    return (wbars, mbars)\n",
    "\n",
    "#Creamos la animación, utilizando FuncAnimation y pasando como parámetro \"frames\" el conjunto\n",
    "#de años para los que disponemos de datos. En este caso, el parámetro \"interval\" será de 500ms\n",
    "ani = animation.FuncAnimation(fig, update_pyramid, frames=iter(gwomen), interval=500, repeat=False)"
   ]
  },
  {
   "cell_type": "markdown",
   "metadata": {},
   "source": [
    "## Análisis de algoritmos\n",
    "\n",
    "En esta práctica hemos visto ejemplos de visualizaciones dinámicas que nos ayudan a comprender mejor datos temporales, o a descubrir información adicional que no resulta fácilmente accesible mediante visualizaciones estáticas. Pero además de esto, una visualización dinámica puede resultar de gran ayuda para comprender el funcionamiento de ciertos algoritmos, y en particular aquellos que utilizaremos para construir modelos a partir de conjuntos de datos.\n",
    "\n",
    "A continuación se muestra un ejemplo, [inspirado en el que podemos encontrar en la documentación de Scikit-learn](http://scikit-learn.org/stable/modules/svm.html), construiremos una animación que permita visualizar el proceso de aprendizaje de un clasificador SVM, lo que nos permitirá comprobar cómo los hiperplanos discriminantes de las distintas clases se van actualizando con la aparición de nuevos ejemplos."
   ]
  },
  {
   "cell_type": "code",
   "execution_count": null,
   "metadata": {},
   "outputs": [],
   "source": [
    "from sklearn import svm, datasets\n",
    "import matplotlib.colors\n",
    "\n",
    "#Conjunto de colores utilizado para el pintado\n",
    "cols = ['#E24A33', '#348ABD', '#8EBA42']\n",
    "#Cargamos el conjunto de datos\n",
    "iris = datasets.load_iris()\n",
    "X, y = iris.data[:, :2], iris.target\n",
    "#Para hacer dinámico el aprendizaje, modificaremos los pesos de cada\n",
    "#ejemplo, incluyendo uno más en cada iteración.\n",
    "sample_weights = np.zeros_like(y)\n",
    "#Reordenamiento aleatorio de los ejemplos\n",
    "transp = np.random.permutation(np.c_[X,y])\n",
    "X, y = transp[:, :2], transp[:, 2].astype(int)\n",
    "\n",
    "#Instancia de SVM que utilizaremos para el aprendizaje\n",
    "vm = svm.SVC()\n",
    "\n",
    "#Creamos una malla para dibujar el área de cada clase\n",
    "h = .02\n",
    "x_min, x_max = X[:, 0].min() - 1, X[:, 0].max() + 1\n",
    "y_min, y_max = X[:, 1].min() - 1, X[:, 1].max() + 1\n",
    "xx, yy = np.meshgrid(np.arange(x_min, x_max, h),\n",
    "                     np.arange(y_min, y_max, h))\n",
    "\n",
    "fig = plt.figure()\n",
    "#Configuramos los ejes\n",
    "ax = fig.add_subplot(111)\n",
    "ax.set_xlabel('Sepal length')\n",
    "ax.set_ylabel('Sepal width')\n",
    "ax.set_xlim(xx.min(), xx.max())\n",
    "ax.set_ylim(yy.min(), yy.max())\n",
    "ax.set_xticks(())\n",
    "ax.set_yticks(())\n",
    "ax.set_title('SVM learning process')\n",
    "#Añadimos las gráficas que dibujarán los puntos de cada una de las clases.\n",
    "pts = {k : ax.plot([], [], 'o', color=cols[k])[0] for k in np.unique(y)}\n",
    "#Dibujo del área de clasificación de cada clase.\n",
    "contours = None\n",
    "\n",
    "def update_classifier(nsamp):\n",
    "    #Eliminamos los contornos de cada clase\n",
    "    global contours\n",
    "    if contours is not None:\n",
    "        for cont in contours.collections:\n",
    "            ax.collections.remove(cont)\n",
    "    #Añadimos un nuevo ejemplo al entrenamiento\n",
    "    sample_weights[nsamp] = 1\n",
    "    vm.fit(X, y, sample_weights)\n",
    "    #Calculamos la salida para cada punto de la malla\n",
    "    Z = vm.predict(np.c_[xx.ravel(), yy.ravel()])\n",
    "    #Y la dibujamos\n",
    "    Z = Z.reshape(xx.shape)\n",
    "    contours = ax.contourf(xx, yy, Z, alpha=0.8, colors=cols, levels=[0, 0.5, 1.5, 2])\n",
    "    #Añadimos el nuevo punto a la gráfica correspondiente.\n",
    "    lastx, lasty = X[nsamp]\n",
    "    xpt, ypt = pts[y[nsamp]].get_data()\n",
    "    pts[y[nsamp]].set_data(np.append(xpt, lastx), np.append(ypt, lasty))\n",
    "    return list(pts.values()) + contours.collections\n",
    "\n",
    "ani = animation.FuncAnimation(fig, update_classifier, len(y), interval=100, repeat=False)"
   ]
  },
  {
   "cell_type": "markdown",
   "metadata": {},
   "source": [
    "## Recursos adicionales\n",
    "\n",
    "En esta introducción a las herramientas de visualización dinámica nos hemos centrado en el paquete `matplotlib`, al ser el más popular dentro del ecosistema Python. Sin embargo, existen otras librerías, normalmente basadas o compatibles con `matplotlib`, que pueden resultar muy útiles a la hora de crear visualizaciones dinámicas e interactivas. Destacamos las siguientes:\n",
    "\n",
    " - Bokeh: http://bokeh.pydata.org/en/latest/\n",
    " - Seaborn: https://stanford.edu/~mwaskom/software/seaborn/\n",
    " - NVD3: https://github.com/areski/python-nvd3\n",
    " - MPLD3: http://mpld3.github.io/"
   ]
  }
 ],
 "metadata": {
  "kernelspec": {
   "display_name": "Python 3",
   "language": "python",
   "name": "python3"
  },
  "language_info": {
   "codemirror_mode": {
    "name": "ipython",
    "version": 3
   },
   "file_extension": ".py",
   "mimetype": "text/x-python",
   "name": "python",
   "nbconvert_exporter": "python",
   "pygments_lexer": "ipython3",
   "version": "3.9.5"
  },
  "toc": {
   "toc_cell": true,
   "toc_number_sections": true,
   "toc_section_display": "block",
   "toc_threshold": 6,
   "toc_window_display": false
  },
  "toc_position": {
   "height": "159px",
   "left": "1628.19px",
   "right": "20px",
   "top": "119px",
   "width": "245px"
  }
 },
 "nbformat": 4,
 "nbformat_minor": 1
}
