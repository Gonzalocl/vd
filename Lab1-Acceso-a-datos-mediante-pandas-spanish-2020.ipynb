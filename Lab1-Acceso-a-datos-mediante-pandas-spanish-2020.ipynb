{
 "cells": [
  {
   "cell_type": "markdown",
   "metadata": {},
   "source": [
    "# Laboratorio 1: Acceso a datos mediante pandas"
   ]
  },
  {
   "cell_type": "markdown",
   "metadata": {},
   "source": [
    "En esta práctica accederemos a la Wikipedia para recabar los datos de población de un conjunto de países y realizaremos algunas representaciones gráficas.\n",
    "\n",
    "En la página web titulada \"List of countries by past and future population\" se muestra la evolución de un buen número de países y territorios del mundo entre 1950 y 2050, organizada en un conjunto de tablas. En esta práctica combinaremos los datos de todos los países-territorios y todos los años en una sola trama de datos de panda, y visualizaremos los cambios en la población de los distintos países-territorios.\n",
    "\n",
    "### Utilizaremos en esta práctica las siguientes librerías: \n",
    "[pandas](http://pandas.pydata.org/) proporciona estructuras de datos fáciles de usar y funciones de acceso a datos desde múltiples fuentes y formatos.  \n",
    "[matplotlib](matplotlib.org) permite generar múltiples tipos de gráficos.  \n",
    " \n",
    "\n",
    "### Realizaremos esta práctica en los siguientes pasos:\n",
    "\n",
    "* Reunir los datos en una trama de datos panda\n",
    "* Visualizar los datos\n",
    "\n",
    "A continuación indicamos algunas operaciones iniciales para incorporar al proyecto algunas librerías útiles"
   ]
  },
  {
   "cell_type": "code",
   "execution_count": null,
   "metadata": {},
   "outputs": [],
   "source": [
    "# comando IPython para preparar el cuaderno para matplotlib\n",
    "%matplotlib inline \n",
    "\n",
    "import pandas as pd\n",
    "import matplotlib.pyplot as plt\n"
   ]
  },
  {
   "cell_type": "markdown",
   "metadata": {},
   "source": [
    "## Extraer las tablas a partir de un documento html de la Wikipedia\n",
    "Utilizaremos el método read_html() de la librería pandas para leer las tablas que hay en el fichero html"
   ]
  },
  {
   "cell_type": "code",
   "execution_count": null,
   "metadata": {},
   "outputs": [],
   "source": [
    "# Ojo, en este documento html el separador de miles es una coma\n",
    "url = \"https://en.wikipedia.org/wiki/List_of_countries_by_past_and_future_population\"\n",
    "\n",
    "\n",
    "# Imprimimos el número de tablas que hemos leído con datos de países mediante la función len(). Deberían ser 3.\n"
   ]
  },
  {
   "cell_type": "markdown",
   "metadata": {},
   "source": [
    "## Construimos una sola tabla con la información de población\n",
    "Reunimos las tablas con los diferentes periodos en una sola tabla, mediante los métodos de pandas join(), merge(), o concat(), extraemos la cabecera y seleccionamos las columnas que corresponden solamente a fechas. Podemos utilizar el método head() para inspeccionar las primeras filas de la tabla y que la salida sea más manejable."
   ]
  },
  {
   "cell_type": "code",
   "execution_count": null,
   "metadata": {},
   "outputs": [],
   "source": [
    "# Reunimos las tres tablas en una sola.\n",
    "\n",
    "\n",
    "# Imprimimos las primeras filas a modo de comprobación, mediante head()\n",
    "\n",
    "\n",
    "# Generamos una lista con la información almacenada en las columnas mediante list()\n",
    "\n",
    "\n",
    "# Seleccionamos de la cabecera las columnas correspondientes a las fechas mediante isnumeric() \n",
    "# Puede ser útil el utilizar la noción de 'list comprehension' por sencillez\n",
    "\n",
    "\n",
    "# Leemos la tabla por fechas y la almacenamos para su uso. Imprimimos para verificar que es correcto\n",
    "\n"
   ]
  },
  {
   "cell_type": "markdown",
   "metadata": {},
   "source": [
    "## Algunas funciones de acceso a datos para una trama de pandas\n",
    "Jugaremos con las posibilidades de pandas para manejar tablas mediante un conjunto sencillo de ejercicios."
   ]
  },
  {
   "cell_type": "markdown",
   "metadata": {},
   "source": [
    "### Ejercicio 1\n",
    "Imprimir la tabla correspondiente a las poblaciones de Alemania, Andorra y Angola desde 2015 a 2025."
   ]
  },
  {
   "cell_type": "code",
   "execution_count": null,
   "metadata": {},
   "outputs": [],
   "source": [
    "# Creamos una subtabla a partir de una indexación mediante el uso de la opción .loc\n"
   ]
  },
  {
   "cell_type": "markdown",
   "metadata": {},
   "source": [
    "### Ejercicio 2\n",
    "Imprimir la subtabla que va desde las filas 3 a 8 y desde las columnas 5 a 9."
   ]
  },
  {
   "cell_type": "code",
   "execution_count": null,
   "metadata": {},
   "outputs": [],
   "source": [
    "# Creamos una subtabla a partir de una indexación mediante el uso de la opción .iloc\n"
   ]
  },
  {
   "cell_type": "markdown",
   "metadata": {},
   "source": [
    "### Ejercicio 3\n",
    "Imprimir la columna correspondiente al año 1955."
   ]
  },
  {
   "cell_type": "code",
   "execution_count": null,
   "metadata": {},
   "outputs": [],
   "source": [
    "# Creamos una columna mediante selección por el título de la columna\n"
   ]
  },
  {
   "cell_type": "markdown",
   "metadata": {},
   "source": [
    "### Ejercicio 4\n",
    "Imprimir los datos de la fila número 15."
   ]
  },
  {
   "cell_type": "code",
   "execution_count": null,
   "metadata": {},
   "outputs": [],
   "source": [
    "# Seleccionamos una fila mediante la opción .iloc\n"
   ]
  },
  {
   "cell_type": "markdown",
   "metadata": {},
   "source": [
    "### Ejercicio 5\n",
    "Imprimir la población de Barbados en 1995."
   ]
  },
  {
   "cell_type": "code",
   "execution_count": null,
   "metadata": {},
   "outputs": [],
   "source": [
    "# Seleccionamos una celda mediante la opción .loc\n"
   ]
  },
  {
   "cell_type": "markdown",
   "metadata": {},
   "source": [
    "### Ejercicio 6\n",
    "Imprimir el valor máximo de las poblaciones de 1975 e identificar el país correspondiente."
   ]
  },
  {
   "cell_type": "code",
   "execution_count": null,
   "metadata": {},
   "outputs": [],
   "source": [
    "# Utilizamos la función drop() para eliminar los valores totales mundiales\n",
    "\n",
    "\n",
    "# Utilizamos la función max() para calcular el máximo\n",
    "\n",
    "\n",
    "# Utilizamos idxmax() para identificar el país que corresponde al valor máximo\n"
   ]
  },
  {
   "cell_type": "markdown",
   "metadata": {},
   "source": [
    "### Ejercicio 7\n",
    "Imprimir los nombres de las filas."
   ]
  },
  {
   "cell_type": "code",
   "execution_count": null,
   "metadata": {},
   "outputs": [],
   "source": [
    "# Utilizamos la opción .index\n"
   ]
  },
  {
   "cell_type": "markdown",
   "metadata": {},
   "source": [
    "## Dibujar la población de 4 países en un año\n",
    "Dibujar mediante un diagrama de barras la población de Argentina, Suecia, Polonia y Libia en 1995, ordenadas de menor a mayor, utilizando las librerías matplotlib."
   ]
  },
  {
   "cell_type": "code",
   "execution_count": null,
   "metadata": {},
   "outputs": [],
   "source": [
    "# Mediante la función plt.bar() de las librerías matplotlib\n"
   ]
  },
  {
   "cell_type": "code",
   "execution_count": null,
   "metadata": {},
   "outputs": [],
   "source": [
    "# Generamos una lista con los nombres de los países del enunciado\n",
    "\n",
    "\n",
    "# Utilizamos la opción .loc para seleccionar la subtabla que dibujaremos\n",
    "\n",
    "\n",
    "# Utilizamos la función .sort_values() para ordenar la subtabla y .plot(kind='bar') para dibujar    \n",
    "\n",
    "\n",
    "# Podemos utilizar plt.ylabel() para especificar 'población (miles)'\n",
    "\n",
    "# Podemos utilizar plt.xlabel() para especificar 'País (o territorio dependiente)'\n"
   ]
  },
  {
   "cell_type": "markdown",
   "metadata": {},
   "source": [
    "## Dibujar la evolución de la población de 4 países\n",
    "Dibujar la evolución de la población en todo el periodo para los siguientes países: Alemania, España, Estados Unidos e Italia."
   ]
  },
  {
   "cell_type": "code",
   "execution_count": null,
   "metadata": {},
   "outputs": [],
   "source": [
    "# Mediante la función plot de las librerías matplotlib\n",
    "\n",
    "    \n"
   ]
  },
  {
   "cell_type": "code",
   "execution_count": null,
   "metadata": {},
   "outputs": [],
   "source": [
    "# Generamos una lista con los nombres de los países del enunciado\n",
    "\n",
    "\n",
    "# Generamos la subtabla correspondiente con la opción .loc\n",
    "\n",
    "    \n",
    "# Utilizamos la función plot(kind='line') para dibujar\n",
    "\n",
    "\n",
    "# Etiquetamos con plt.xlabel() y plt.ylabel()\n",
    "\n"
   ]
  },
  {
   "cell_type": "markdown",
   "metadata": {},
   "source": [
    "## Dibujar la evolución de los 5 países más populosos hasta 2010 y 2050  \n",
    "Dibujar dos gráficas: una con la evolución para todo el período de los países más populosos en 2010, y otra con los países más populosos en 2050. Utilizaremos una función plot_populosos() a la que daremos como argumento el año de interés."
   ]
  },
  {
   "cell_type": "code",
   "execution_count": null,
   "metadata": {},
   "outputs": [],
   "source": [
    "# Mediante la función plot de las librerías matplotlib\n",
    "def plot_populosos(taboa, ano):\n",
    "    # Ordenamos la tabla según el año\n",
    "\n",
    "\n",
    "\n",
    "plot_populosos(taboa, '2010')\n",
    "plot_populosos(taboa, '2050')"
   ]
  },
  {
   "cell_type": "code",
   "execution_count": null,
   "metadata": {},
   "outputs": [],
   "source": [
    "# Definimos la funión plot_populosos()\n",
    "def plot_populosos(taboa, ano):\n",
    "    \n",
    "    # Ordenamos la tabla según el año\n",
    "\n",
    "    \n",
    "    # Seleccionamos los cinco primeros países mediante .iloc, y extraemos sus nombres\n",
    "\n",
    "    \n",
    "    # Utilizamos los nombres para invocar la subtabla mediante .loc y dibujamos mediante plot(kind='line')\n",
    "\n",
    "\n",
    "# Aquí invocamos la función plot_populosos()\n",
    "# Para ello, debemos eliminar en primer lugar los valores mundiales\n",
    "\n"
   ]
  }
 ],
 "metadata": {
  "celltoolbar": "Raw Cell Format",
  "kernelspec": {
   "display_name": "Python 3",
   "language": "python",
   "name": "python3"
  },
  "language_info": {
   "codemirror_mode": {
    "name": "ipython",
    "version": 3
   },
   "file_extension": ".py",
   "mimetype": "text/x-python",
   "name": "python",
   "nbconvert_exporter": "python",
   "pygments_lexer": "ipython3",
   "version": "3.9.1"
  }
 },
 "nbformat": 4,
 "nbformat_minor": 4
}
